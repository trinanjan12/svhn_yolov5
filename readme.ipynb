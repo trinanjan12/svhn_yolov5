{
 "cells": [
  {
   "cell_type": "markdown",
   "metadata": {
    "ExecuteTime": {
     "end_time": "2020-12-28T07:48:33.468605Z",
     "start_time": "2020-12-28T07:48:33.466980Z"
    }
   },
   "source": [
    "# SVNN Object Detection Using YOLOV5"
   ]
  },
  {
   "cell_type": "markdown",
   "metadata": {},
   "source": [
    "## Process the SVHN dataset\n",
    "\n",
    "1. Go to org_dataset folder. Download the SVHN format one dataset from http://ufldl.stanford.edu/housenumbers/\n",
    "2. extract the folders inside org_dataset. example command `tar xvzf extra.tar.gz`\n",
    "3. run  `python create_annotations_from_matobj.py --mode extra`\n",
    "4. create_annotations_from_matobj.py should be executed with mode train/test/extra\n",
    "5. create_annotations_from_matobj.py will convert the .mat format to dict format and save it in the current dir\n",
    "6. run `python combine_dataset.py ` to combine train and extra images to create a bigger dataset. This will create a new annotations file as well as a folder named combined with all the images\n",
    "7. check out the directory structure image attached to understand\n",
    "    "
   ]
  },
  {
   "cell_type": "markdown",
   "metadata": {
    "ExecuteTime": {
     "end_time": "2020-12-28T07:49:08.788994Z",
     "start_time": "2020-12-28T07:49:08.787547Z"
    }
   },
   "source": [
    "## Create Yolo Annotations\n",
    "1. Go to yolo_exp folder. Download the SVHN format one dataset from \n",
    "2. Run `python create_yolo_annotations.py --mode combined ` and `python create_yolo_annotations.py --mode train `\n",
    "3. This will create 2 folders **svhn2020combined** and **svhn2020train** in the same dir of yolo_exp "
   ]
  },
  {
   "cell_type": "markdown",
   "metadata": {
    "ExecuteTime": {
     "end_time": "2020-12-28T07:49:23.584685Z",
     "start_time": "2020-12-28T07:49:23.582959Z"
    }
   },
   "source": [
    "## Train Yolov5\n",
    "\n",
    "1. Clone and install req from https://github.com/ultralytics/yolov5 inside the yolo_exp folder\n",
    "2. Check out https://github.com/ultralytics/yolov5/wiki/Train-Custom-Data \n",
    "3. We have already created the dataset folder **svhn2020combined** and **svhn2020train**\n",
    "4. Copy the yaml files from **./yolo_exp/training_yaml_files to  ./yolo_exp/yolov5/data**\n",
    "5. I have initially trained the network with the default aumentation strategy. Even though this was working fine for normal images but i wanted to use random rotation, because some of my test images were inverted. \n",
    "6. So i changed the value of **degrees** to 180 in **./yolov5_exp/yolov5/data/hyp.scratch.yaml**\n",
    "7. train command to run from **./yolov5_exp/yolov5/** folder \n",
    "8. `python train.py --batch 32 --weights yolov5m.pt  --data ./data/svhn2020combined.yaml --img 320 --epochs 50 --name test_combined` <br>\n",
    "`python train.py --batch 32 --weights yolov5m.pt  --data ./data/svhn2020train.yaml --img 320 --epochs 50 --name test_train`\n",
    "9. training will be saved inside **./yolov5_exp/yolov5/runs/detect**"
   ]
  },
  {
   "cell_type": "markdown",
   "metadata": {},
   "source": [
    "## Inference"
   ]
  },
  {
   "cell_type": "markdown",
   "metadata": {},
   "source": [
    "1. run the command below from  **./yolov5_exp/yolov5/** folder. check out inference inside **./yolov5_exp/yolov5/runs/detect**<br>\n",
    "`python detect.py --source /home/deep/Pictures/test_final --weights ./runs/train/test_combined/weights/best.pt --conf 0.25 --save-txt --save-conf`"
   ]
  },
  {
   "cell_type": "markdown",
   "metadata": {
    "ExecuteTime": {
     "end_time": "2020-12-28T08:25:08.119824Z",
     "start_time": "2020-12-28T08:25:08.077425Z"
    }
   },
   "source": [
    "# TODO\n",
    " - [ ] Add trained weights "
   ]
  },
  {
   "cell_type": "code",
   "execution_count": null,
   "metadata": {},
   "outputs": [],
   "source": []
  }
 ],
 "metadata": {
  "kernelspec": {
   "display_name": "pytorch",
   "language": "python",
   "name": "pytorch"
  },
  "language_info": {
   "codemirror_mode": {
    "name": "ipython",
    "version": 3
   },
   "file_extension": ".py",
   "mimetype": "text/x-python",
   "name": "python",
   "nbconvert_exporter": "python",
   "pygments_lexer": "ipython3",
   "version": "3.8.5"
  },
  "varInspector": {
   "cols": {
    "lenName": 16,
    "lenType": 16,
    "lenVar": 40
   },
   "kernels_config": {
    "python": {
     "delete_cmd_postfix": "",
     "delete_cmd_prefix": "del ",
     "library": "var_list.py",
     "varRefreshCmd": "print(var_dic_list())"
    },
    "r": {
     "delete_cmd_postfix": ") ",
     "delete_cmd_prefix": "rm(",
     "library": "var_list.r",
     "varRefreshCmd": "cat(var_dic_list()) "
    }
   },
   "types_to_exclude": [
    "module",
    "function",
    "builtin_function_or_method",
    "instance",
    "_Feature"
   ],
   "window_display": false
  }
 },
 "nbformat": 4,
 "nbformat_minor": 4
}
